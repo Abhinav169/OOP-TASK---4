{
  "nbformat": 4,
  "nbformat_minor": 0,
  "metadata": {
    "colab": {
      "name": "Untitled4.ipynb",
      "provenance": [],
      "authorship_tag": "ABX9TyPUYAyXFq6X9qAbc0HhL8sK",
      "include_colab_link": true
    },
    "kernelspec": {
      "name": "python3",
      "display_name": "Python 3"
    },
    "language_info": {
      "name": "python"
    }
  },
  "cells": [
    {
      "cell_type": "markdown",
      "metadata": {
        "id": "view-in-github",
        "colab_type": "text"
      },
      "source": [
        "<a href=\"https://colab.research.google.com/github/Abhinav169/OOP-TASK---4/blob/main/Untitled4.ipynb\" target=\"_parent\"><img src=\"https://colab.research.google.com/assets/colab-badge.svg\" alt=\"Open In Colab\"/></a>"
      ]
    },
    {
      "cell_type": "code",
      "metadata": {
        "colab": {
          "base_uri": "https://localhost:8080/"
        },
        "id": "KyFeBENrQwZa",
        "outputId": "b56c50d5-cb75-4334-c3ce-e65c421b1df3"
      },
      "source": [
        "class Rectangle():\n",
        "    def __init__(self, l, w):\n",
        "        self.length = l\n",
        "        self.width  = w\n",
        "\n",
        "    def rectangle_area(self):\n",
        "        return self.length*self.width\n",
        "\n",
        "newRectangle = Rectangle(12, 10)\n",
        "print(newRectangle.rectangle_area())"
      ],
      "execution_count": 5,
      "outputs": [
        {
          "output_type": "stream",
          "name": "stdout",
          "text": [
            "120\n"
          ]
        }
      ]
    },
    {
      "cell_type": "code",
      "metadata": {
        "colab": {
          "base_uri": "https://localhost:8080/"
        },
        "id": "cQaXOVufS8cn",
        "outputId": "3fa9888c-b7d9-4589-c62b-74c684e9b39f"
      },
      "source": [
        "\n",
        "\n",
        "class Node:\n",
        " \n",
        " \n",
        " def __init__(self,data):\n",
        "  self.data = data\n",
        "  self.next = None\n",
        " \n",
        "class Stack:\n",
        "\n",
        " def __init__(self):\n",
        "  self.head = None\n",
        " \n",
        " \n",
        " def isempty(self):\n",
        "  if self.head == None:\n",
        "   return True\n",
        "  else:\n",
        "   return False\n",
        " \n",
        " \n",
        " def push(self,data):\n",
        "  \n",
        "  if self.head == None:\n",
        "   self.head=Node(data)\n",
        "   \n",
        "  else:\n",
        "   newnode = Node(data)\n",
        "   newnode.next = self.head\n",
        "   self.head = newnode\n",
        " \n",
        " def pop(self):\n",
        "  \n",
        "  if self.isempty():\n",
        "   return None\n",
        "   \n",
        "  else:\n",
        "   poppednode = self.head\n",
        "   self.head = self.head.next\n",
        "   poppednode.next = None\n",
        "   return poppednode.data\n",
        "\n",
        " def peek(self):\n",
        "  \n",
        "  if self.isempty():\n",
        "   return None\n",
        "   \n",
        "  else:\n",
        "   return self.head.data\n",
        " \n",
        " def display(self):\n",
        "  \n",
        "  iternode = self.head\n",
        "  if self.isempty():\n",
        "   print(\"Stack Underflow\")\n",
        "  \n",
        "  else:\n",
        "   \n",
        "   while(iternode != None):\n",
        "    \n",
        "    print(iternode.data,\"->\",end = \" \")\n",
        "    iternode = iternode.next\n",
        "   return\n",
        "  \n",
        "MyStack = Stack()\n",
        "\n",
        "MyStack.push(11)\n",
        "MyStack.push(22)\n",
        "MyStack.push(33)\n",
        "MyStack.push(44)\n",
        "\n",
        "MyStack.display()\n",
        "\n",
        "print(\"\\nTop element is \",MyStack.peek())\n",
        "\n",
        "MyStack.pop()\n",
        "MyStack.pop()\n",
        "\n",
        "MyStack.display()\n",
        "\n",
        "print(\"\\nTop element is \", MyStack.peek())"
      ],
      "execution_count": 7,
      "outputs": [
        {
          "output_type": "stream",
          "name": "stdout",
          "text": [
            "44 -> 33 -> 22 -> 11 -> \n",
            "Top element is  44\n",
            "22 -> 11 -> \n",
            "Top element is  22\n"
          ]
        }
      ]
    },
    {
      "cell_type": "code",
      "metadata": {
        "colab": {
          "base_uri": "https://localhost:8080/"
        },
        "id": "7qKumLmvYnYD",
        "outputId": "d3d50a50-6f03-4f76-a807-c17f4acdeb4c"
      },
      "source": [
        "class Queue:\n",
        "\n",
        "    def __init__(self):\n",
        "        self.queue = []\n",
        "\n",
        "    def enqueue(self, item):\n",
        "        self.queue.append(item)\n",
        "\n",
        "    def dequeue(self):\n",
        "        if len(self.queue) < 1:\n",
        "            return None\n",
        "        return self.queue.pop(0)\n",
        "\n",
        "    def display(self):\n",
        "        print(self.queue)\n",
        "\n",
        "    def size(self):\n",
        "        return len(self.queue)\n",
        "\n",
        "\n",
        "q = Queue()\n",
        "q.enqueue(10)\n",
        "q.enqueue(20)\n",
        "q.enqueue(30)\n",
        "q.enqueue(40)\n",
        "q.enqueue(50)\n",
        "q.enqueue(60)\n",
        "\n",
        "print('Queue is')\n",
        "q.display()\n",
        "\n",
        "q.dequeue()\n",
        "\n",
        "print('queue after removing an element')\n",
        "q.display()"
      ],
      "execution_count": 23,
      "outputs": [
        {
          "output_type": "stream",
          "name": "stdout",
          "text": [
            "Queue is\n",
            "[10, 20, 30, 40, 50, 60]\n",
            "queue after removing an element\n",
            "[20, 30, 40, 50, 60]\n"
          ]
        }
      ]
    },
    {
      "cell_type": "code",
      "metadata": {
        "colab": {
          "base_uri": "https://localhost:8080/"
        },
        "id": "Ycr4zgTFc8SA",
        "outputId": "54b23375-2559-4e0c-eced-f3beebb8c87c"
      },
      "source": [
        "class Node:\n",
        "    def __init__(self, data):\n",
        "        self.data = data\n",
        "        self.next = None\n",
        "    \n",
        "    def __del__(self):\n",
        "        print(f\"Element {self.data} deleted\")\n",
        "\n",
        "class Stack(Node):\n",
        "    def __init__(self):\n",
        "        self.head = Node(None)\n",
        "        self.size = 0\n",
        "\n",
        "    def isEmpty(self):\n",
        "        return self.size == 0\n",
        "\n",
        "    def push(self, data):\n",
        "        temp = Node(data)\n",
        "        temp.next = self.head.next\n",
        "        self.head.next = temp\n",
        "        self.size += 1\n",
        "    \n",
        "    def pop(self):\n",
        "        if self.isEmpty():\n",
        "            print(\"Stack Empty\")\n",
        "        delete = self.head.next\n",
        "        self.head.next = self.head.next.next\n",
        "        self.size -= 1\n",
        "        return delete.data\n",
        "\n",
        "    def displayStack(self):\n",
        "        iter = self.head.next\n",
        "        print(\"Stack : \", end=\"\")\n",
        "        while iter:\n",
        "            print(iter.data, end=\"\\t\")\n",
        "            iter = iter.next\n",
        "        print()\n",
        "\n",
        "    def __del__(self):\n",
        "        if not self.isEmpty():\n",
        "            iter = self.head\n",
        "            while iter:\n",
        "                temp = iter.next\n",
        "                del iter\n",
        "                self.size -= 1\n",
        "                iter = temp              \n",
        "\n",
        "s = Stack()\n",
        "for i in range(1, 11):\n",
        "    s.push(i)\n",
        "\n",
        "s.displayStack()\n",
        "\n",
        "for i in range(1, 3):\n",
        "    delete = s.pop()\n",
        "    print(f\"Popped element : {delete}\")\n",
        "\n",
        "s.displayStack()"
      ],
      "execution_count": 27,
      "outputs": [
        {
          "output_type": "stream",
          "name": "stdout",
          "text": [
            "Stack : 10\t9\t8\t7\t6\t5\t4\t3\t2\t1\t\n",
            "Element 10 deleted\n",
            "Popped element : 10\n",
            "Element 9 deleted\n",
            "Popped element : 9\n",
            "Stack : 8\t7\t6\t5\t4\t3\t2\t1\t\n"
          ]
        }
      ]
    }
  ]
}